{
  "nbformat": 4,
  "nbformat_minor": 0,
  "metadata": {
    "colab": {
      "name": "ODEBlackBoxSolver.ipynb",
      "version": "0.3.2",
      "provenance": []
    },
    "kernelspec": {
      "name": "python3",
      "display_name": "Python 3"
    }
  },
  "cells": [
    {
      "metadata": {
        "id": "MfLXoqSBj7zw",
        "colab_type": "code",
        "colab": {}
      },
      "cell_type": "code",
      "source": [
        "import numpy as np\n",
        "import matplotlib.pyplot as plt\n",
        "import matplotlib\n",
        "%matplotlib inline"
      ],
      "execution_count": 0,
      "outputs": []
    },
    {
      "metadata": {
        "id": "xsKxDb9ykHen",
        "colab_type": "text"
      },
      "cell_type": "markdown",
      "source": [
        "\n",
        "\n",
        "```\n",
        "Defining exponential growth equation\n",
        "\n",
        "```\n",
        "\n"
      ]
    },
    {
      "metadata": {
        "id": "Nj0d5Sw4kNSf",
        "colab_type": "code",
        "colab": {
          "base_uri": "https://localhost:8080/",
          "height": 297
        },
        "outputId": "3e83ab05-45a4-4a9c-c048-bc14ced5ffb9"
      },
      "cell_type": "code",
      "source": [
        "t=np.linspace(0,1,100)\n",
        "λ=5\n",
        "f= lambda t: np.exp(λ*t)\n",
        "plt.plot(t,f(t))\n",
        "plt.xlabel('t')\n",
        "plt.ylabel('f(t)')"
      ],
      "execution_count": 2,
      "outputs": [
        {
          "output_type": "execute_result",
          "data": {
            "text/plain": [
              "Text(0, 0.5, 'f(t)')"
            ]
          },
          "metadata": {
            "tags": []
          },
          "execution_count": 2
        },
        {
          "output_type": "display_data",
          "data": {
            "image/png": "[encoded data removed]",
            "text/plain": [
              "<Figure size 432x288 with 1 Axes>"
            ]
          },
          "metadata": {
            "tags": []
          }
        }
      ]
    },
    {
      "metadata": {
        "id": "O5v6xM7dkXcs",
        "colab_type": "text"
      },
      "cell_type": "markdown",
      "source": [
        "Defining step functions for methods and gradient function"
      ]
    },
    {
      "metadata": {
        "id": "zp5kdMaCkQb2",
        "colab_type": "code",
        "colab": {}
      },
      "cell_type": "code",
      "source": [
        "def grad_fn(hk):\n",
        "    return λ*hk\n",
        "\n",
        "def euler_step_fn(dt,hk,fun):\n",
        "    return hk+dt*fun(hk)\n",
        "\n",
        "def mid_pt_step(δt,hk,fun):\n",
        "    k1=fun(hk)\n",
        "    k2=fun(hk+δt*k1)\n",
        "    return hk + δt*(k1+k2)/2\n",
        "  \n",
        "def Runge_kutta_step(δt,hk,fun):\n",
        "    k1=fun(hk)\n",
        "    k2=fun(hk+ δt*k1/2)\n",
        "    k3=fun(hk+ δt*k2/2)\n",
        "    k4=fun(hk+δt*k3)\n",
        "    return hk+ (1.0/6.0)*δt*(k1+2*k2+2*k3+k4)  "
      ],
      "execution_count": 0,
      "outputs": []
    },
    {
      "metadata": {
        "id": "tD0EWs8Wksin",
        "colab_type": "text"
      },
      "cell_type": "markdown",
      "source": [
        "Defining BlackBox ODE solver"
      ]
    },
    {
      "metadata": {
        "id": "wI4ZSZBwkyCv",
        "colab_type": "code",
        "colab": {}
      },
      "cell_type": "code",
      "source": [
        "def odeint(func,y0,t,solver):\n",
        "    δts=t[1:]-t[:-1]\n",
        "    tk=t[0]\n",
        "    fk=y0\n",
        "    solp=[(tk,fk)]\n",
        "    for δt in δts:\n",
        "        fk=solver(δt,fk,func)\n",
        "        tk=tk+δt\n",
        "        solp.append((tk,fk))\n",
        "    return solp"
      ],
      "execution_count": 0,
      "outputs": []
    },
    {
      "metadata": {
        "id": "MC3F_VcDk2VO",
        "colab_type": "text"
      },
      "cell_type": "markdown",
      "source": [
        "Solving using Euler's method,Mid point method and Runge Kutta's Fourth Order method"
      ]
    },
    {
      "metadata": {
        "id": "JseHwThCk_3T",
        "colab_type": "code",
        "colab": {}
      },
      "cell_type": "code",
      "source": [
        "tp=np.linspace(0,1,15)\n",
        "sol_euler=odeint(grad_fn,1.0,tp,euler_step_fn)\n",
        "sol_midpt=odeint(grad_fn,1.0,tp,mid_pt_step)\n",
        "sol_rk4=odeint(grad_fn,1.0,tp,Runge_kutta_step)"
      ],
      "execution_count": 0,
      "outputs": []
    },
    {
      "metadata": {
        "id": "EpX1zucIlEgS",
        "colab_type": "code",
        "colab": {
          "base_uri": "https://localhost:8080/",
          "height": 297
        },
        "outputId": "20624981-5ef4-4540-d0df-aff3eea3ffa4"
      },
      "cell_type": "code",
      "source": [
        "plt.plot(*np.array(sol_euler).T,'-.',label='euler')\n",
        "plt.plot(*np.array(sol_midpt).T,'-.',label='Mid point')\n",
        "plt.plot(*np.array(sol_rk4).T,'-.',label='RungeKutta')\n",
        "plt.plot(t,f(t),label='exact')\n",
        "plt.xlabel('t')\n",
        "plt.ylabel('f(t)')\n",
        "plt.legend()"
      ],
      "execution_count": 19,
      "outputs": [
        {
          "output_type": "execute_result",
          "data": {
            "text/plain": [
              "<matplotlib.legend.Legend at 0x7febebda8cf8>"
            ]
          },
          "metadata": {
            "tags": []
          },
          "execution_count": 19
        },
        {
          "output_type": "display_data",
          "data": {
            "image/png": "[encoded data removed]",
            "text/plain": [
              "<Figure size 432x288 with 1 Axes>"
            ]
          },
          "metadata": {
            "tags": []
          }
        }
      ]
    },
    {
      "metadata": {
        "id": "_1t521O2nOlM",
        "colab_type": "code",
        "colab": {}
      },
      "cell_type": "code",
      "source": [
        ""
      ],
      "execution_count": 0,
      "outputs": []
    }
  ]
}